{
  "nbformat": 4,
  "nbformat_minor": 0,
  "metadata": {
    "colab": {
      "provenance": [],
      "include_colab_link": true
    },
    "kernelspec": {
      "name": "python3",
      "display_name": "Python 3"
    },
    "language_info": {
      "name": "python"
    },
    "accelerator": "GPU"
  },
  "cells": [
    {
      "cell_type": "markdown",
      "metadata": {
        "id": "view-in-github",
        "colab_type": "text"
      },
      "source": [
        "<a href=\"https://colab.research.google.com/github/yzihan/FutureJob/blob/main/stablediffusion_infinity.ipynb\" target=\"_parent\"><img src=\"https://colab.research.google.com/assets/colab-badge.svg\" alt=\"Open In Colab\"/></a>"
      ]
    },
    {
      "cell_type": "markdown",
      "source": [
        "# stablediffusion-infinity\n",
        "\n",
        "https://github.com/lkwq007/stablediffusion-infinity\n",
        "\n",
        "Outpainting with Stable Diffusion on an infinite canvas"
      ],
      "metadata": {
        "id": "IgN1jqV_DemW"
      }
    },
    {
      "cell_type": "code",
      "execution_count": 1,
      "metadata": {
        "id": "JvbfNNSJDTW5",
        "outputId": "87c3802b-5391-4fdd-b5f9-1b214ea87db1",
        "colab": {
          "base_uri": "https://localhost:8080/"
        }
      },
      "outputs": [
        {
          "output_type": "stream",
          "name": "stdout",
          "text": [
            "GPU 0: Tesla T4 (UUID: GPU-239765c7-0553-a7e7-5071-b2a26d1da56c)\n",
            "\u001b[2K     \u001b[90m━━━━━━━━━━━━━━━━━━━━━━━━━━━━━━━━━━━━━━━\u001b[0m \u001b[32m524.9/524.9 KB\u001b[0m \u001b[31m9.6 MB/s\u001b[0m eta \u001b[36m0:00:00\u001b[0m\n",
            "\u001b[2K     \u001b[90m━━━━━━━━━━━━━━━━━━━━━━━━━━━━━━━━━━━━━━━━\u001b[0m \u001b[32m6.3/6.3 MB\u001b[0m \u001b[31m65.4 MB/s\u001b[0m eta \u001b[36m0:00:00\u001b[0m\n",
            "\u001b[2K     \u001b[90m━━━━━━━━━━━━━━━━━━━━━━━━━━━━━━━━━━━━━━━━\u001b[0m \u001b[32m53.1/53.1 KB\u001b[0m \u001b[31m1.9 MB/s\u001b[0m eta \u001b[36m0:00:00\u001b[0m\n",
            "\u001b[2K     \u001b[90m━━━━━━━━━━━━━━━━━━━━━━━━━━━━━━━━━━━━━━\u001b[0m \u001b[32m199.7/199.7 KB\u001b[0m \u001b[31m12.4 MB/s\u001b[0m eta \u001b[36m0:00:00\u001b[0m\n",
            "\u001b[2K     \u001b[90m━━━━━━━━━━━━━━━━━━━━━━━━━━━━━━━━━━━━━━━\u001b[0m \u001b[32m190.3/190.3 KB\u001b[0m \u001b[31m8.3 MB/s\u001b[0m eta \u001b[36m0:00:00\u001b[0m\n",
            "\u001b[2K     \u001b[90m━━━━━━━━━━━━━━━━━━━━━━━━━━━━━━━━━━━━━━━━\u001b[0m \u001b[32m7.6/7.6 MB\u001b[0m \u001b[31m57.9 MB/s\u001b[0m eta \u001b[36m0:00:00\u001b[0m\n",
            "\u001b[2K     \u001b[90m━━━━━━━━━━━━━━━━━━━━━━━━━━━━━━━━━━━━━━━━\u001b[0m \u001b[32m11.6/11.6 MB\u001b[0m \u001b[31m98.8 MB/s\u001b[0m eta \u001b[36m0:00:00\u001b[0m\n",
            "\u001b[?25h  Preparing metadata (setup.py) ... \u001b[?25l\u001b[?25hdone\n",
            "\u001b[2K     \u001b[90m━━━━━━━━━━━━━━━━━━━━━━━━━━━━━━━━━━━━━━━━\u001b[0m \u001b[32m54.9/54.9 KB\u001b[0m \u001b[31m2.2 MB/s\u001b[0m eta \u001b[36m0:00:00\u001b[0m\n",
            "\u001b[2K     \u001b[90m━━━━━━━━━━━━━━━━━━━━━━━━━━━━━━━━━━━━━━\u001b[0m \u001b[32m210.8/210.8 KB\u001b[0m \u001b[31m25.7 MB/s\u001b[0m eta \u001b[36m0:00:00\u001b[0m\n",
            "\u001b[2K     \u001b[90m━━━━━━━━━━━━━━━━━━━━━━━━━━━━━━━━━━━━━━\u001b[0m \u001b[32m140.7/140.7 KB\u001b[0m \u001b[31m19.2 MB/s\u001b[0m eta \u001b[36m0:00:00\u001b[0m\n",
            "\u001b[2K     \u001b[90m━━━━━━━━━━━━━━━━━━━━━━━━━━━━━━━━━━━━━━━━\u001b[0m \u001b[32m71.5/71.5 KB\u001b[0m \u001b[31m8.3 MB/s\u001b[0m eta \u001b[36m0:00:00\u001b[0m\n",
            "\u001b[?25h  Preparing metadata (setup.py) ... \u001b[?25l\u001b[?25hdone\n",
            "\u001b[2K     \u001b[90m━━━━━━━━━━━━━━━━━━━━━━━━━━━━━━━━━━━━━━━━\u001b[0m \u001b[32m84.5/84.5 KB\u001b[0m \u001b[31m11.6 MB/s\u001b[0m eta \u001b[36m0:00:00\u001b[0m\n",
            "\u001b[2K     \u001b[90m━━━━━━━━━━━━━━━━━━━━━━━━━━━━━━━━━━━━━━━━\u001b[0m \u001b[32m56.2/56.2 KB\u001b[0m \u001b[31m5.2 MB/s\u001b[0m eta \u001b[36m0:00:00\u001b[0m\n",
            "\u001b[2K     \u001b[90m━━━━━━━━━━━━━━━━━━━━━━━━━━━━━━━━━━━━━━━━\u001b[0m \u001b[32m2.1/2.1 MB\u001b[0m \u001b[31m74.9 MB/s\u001b[0m eta \u001b[36m0:00:00\u001b[0m\n",
            "\u001b[2K     \u001b[90m━━━━━━━━━━━━━━━━━━━━━━━━━━━━━━━━━━━━━━\u001b[0m \u001b[32m107.0/107.0 KB\u001b[0m \u001b[31m13.5 MB/s\u001b[0m eta \u001b[36m0:00:00\u001b[0m\n",
            "\u001b[2K     \u001b[90m━━━━━━━━━━━━━━━━━━━━━━━━━━━━━━━━━━━━━━━━\u001b[0m \u001b[32m56.9/56.9 KB\u001b[0m \u001b[31m6.0 MB/s\u001b[0m eta \u001b[36m0:00:00\u001b[0m\n",
            "\u001b[2K     \u001b[90m━━━━━━━━━━━━━━━━━━━━━━━━━━━━━━━━━━━━━━━━\u001b[0m \u001b[32m66.4/66.4 KB\u001b[0m \u001b[31m8.2 MB/s\u001b[0m eta \u001b[36m0:00:00\u001b[0m\n",
            "\u001b[2K     \u001b[90m━━━━━━━━━━━━━━━━━━━━━━━━━━━━━━━━━━━━━━━━\u001b[0m \u001b[32m69.6/69.6 KB\u001b[0m \u001b[31m10.4 MB/s\u001b[0m eta \u001b[36m0:00:00\u001b[0m\n",
            "\u001b[2K     \u001b[90m━━━━━━━━━━━━━━━━━━━━━━━━━━━━━━━━━━━━━━━━\u001b[0m \u001b[32m52.1/52.1 KB\u001b[0m \u001b[31m7.0 MB/s\u001b[0m eta \u001b[36m0:00:00\u001b[0m\n",
            "\u001b[2K     \u001b[90m━━━━━━━━━━━━━━━━━━━━━━━━━━━━━━━━━━━━━━\u001b[0m \u001b[32m856.7/856.7 KB\u001b[0m \u001b[31m28.4 MB/s\u001b[0m eta \u001b[36m0:00:00\u001b[0m\n",
            "\u001b[2K     \u001b[90m━━━━━━━━━━━━━━━━━━━━━━━━━━━━━━━━━━━━━━\u001b[0m \u001b[32m593.7/593.7 KB\u001b[0m \u001b[31m53.7 MB/s\u001b[0m eta \u001b[36m0:00:00\u001b[0m\n",
            "\u001b[2K     \u001b[90m━━━━━━━━━━━━━━━━━━━━━━━━━━━━━━━━━━━━━━━━\u001b[0m \u001b[32m4.2/4.2 MB\u001b[0m \u001b[31m108.8 MB/s\u001b[0m eta \u001b[36m0:00:00\u001b[0m\n",
            "\u001b[2K     \u001b[90m━━━━━━━━━━━━━━━━━━━━━━━━━━━━━━━━━━━━━━━━\u001b[0m \u001b[32m80.6/80.6 KB\u001b[0m \u001b[31m11.8 MB/s\u001b[0m eta \u001b[36m0:00:00\u001b[0m\n",
            "\u001b[2K     \u001b[90m━━━━━━━━━━━━━━━━━━━━━━━━━━━━━━━━━━━━━━━━\u001b[0m \u001b[32m69.0/69.0 KB\u001b[0m \u001b[31m9.6 MB/s\u001b[0m eta \u001b[36m0:00:00\u001b[0m\n",
            "\u001b[2K     \u001b[90m━━━━━━━━━━━━━━━━━━━━━━━━━━━━━━━━━━━━━━━━\u001b[0m \u001b[32m68.7/68.7 KB\u001b[0m \u001b[31m10.2 MB/s\u001b[0m eta \u001b[36m0:00:00\u001b[0m\n",
            "\u001b[2K     \u001b[90m━━━━━━━━━━━━━━━━━━━━━━━━━━━━━━━━━━━━━━━━\u001b[0m \u001b[32m68.7/68.7 KB\u001b[0m \u001b[31m10.1 MB/s\u001b[0m eta \u001b[36m0:00:00\u001b[0m\n",
            "\u001b[2K     \u001b[90m━━━━━━━━━━━━━━━━━━━━━━━━━━━━━━━━━━━━━━━━\u001b[0m \u001b[32m68.4/68.4 KB\u001b[0m \u001b[31m10.1 MB/s\u001b[0m eta \u001b[36m0:00:00\u001b[0m\n",
            "\u001b[?25h  Building wheel for ffmpy (setup.py) ... \u001b[?25l\u001b[?25hdone\n",
            "  Building wheel for python-multipart (setup.py) ... \u001b[?25l\u001b[?25hdone\n",
            "  Preparing metadata (setup.py) ... \u001b[?25l\u001b[?25hdone\n",
            "\u001b[2K     \u001b[90m━━━━━━━━━━━━━━━━━━━━━━━━━━━━━━━━━━━━━━\u001b[0m \u001b[32m549.1/549.1 KB\u001b[0m \u001b[31m29.0 MB/s\u001b[0m eta \u001b[36m0:00:00\u001b[0m\n",
            "\u001b[2K     \u001b[90m━━━━━━━━━━━━━━━━━━━━━━━━━━━━━━━━━━━━━━━━\u001b[0m \u001b[32m32.7/32.7 MB\u001b[0m \u001b[31m15.4 MB/s\u001b[0m eta \u001b[36m0:00:00\u001b[0m\n",
            "\u001b[2K     \u001b[90m━━━━━━━━━━━━━━━━━━━━━━━━━━━━━━━━━━━━━━\u001b[0m \u001b[32m239.0/239.0 KB\u001b[0m \u001b[31m29.6 MB/s\u001b[0m eta \u001b[36m0:00:00\u001b[0m\n",
            "\u001b[2K     \u001b[90m━━━━━━━━━━━━━━━━━━━━━━━━━━━━━━━━━━━━━━━━\u001b[0m \u001b[32m1.1/1.1 MB\u001b[0m \u001b[31m57.9 MB/s\u001b[0m eta \u001b[36m0:00:00\u001b[0m\n",
            "\u001b[?25h  Building wheel for fpie (setup.py) ... \u001b[?25l\u001b[?25hdone\n",
            "\u001b[31mERROR: pip's dependency resolver does not currently take into account all the packages that are installed. This behaviour is the source of the following dependency conflicts.\n",
            "ipython 7.9.0 requires jedi>=0.10, which is not installed.\u001b[0m\u001b[31m\n",
            "\u001b[0mFound existing installation: taichi 1.4.1\n",
            "Uninstalling taichi-1.4.1:\n",
            "  Successfully uninstalled taichi-1.4.1\n"
          ]
        }
      ],
      "source": [
        "#@title setup libs\n",
        "!nvidia-smi -L\n",
        "!pip install -qq -U diffusers==0.11.1 transformers ftfy accelerate\n",
        "!pip install -q gradio==3.11.0\n",
        "!pip install -q fpie timm\n",
        "!pip uninstall taichi -y"
      ]
    },
    {
      "cell_type": "code",
      "source": [
        "#@title setup stablediffusion-infinity\n",
        "!git clone --recurse-submodules https://github.com/lkwq007/stablediffusion-infinity\n",
        "%cd stablediffusion-infinity\n",
        "!cp -r PyPatchMatch/csrc .\n",
        "!cp PyPatchMatch/Makefile .\n",
        "!cp PyPatchMatch/Makefile_fallback .\n",
        "!cp PyPatchMatch/travis.sh .\n",
        "!cp PyPatchMatch/patch_match.py . "
      ],
      "metadata": {
        "id": "D1BDhQCJDilE",
        "outputId": "527aa50a-19a8-4a3f-c6ae-87b1baee3d39",
        "colab": {
          "base_uri": "https://localhost:8080/"
        }
      },
      "execution_count": 2,
      "outputs": [
        {
          "output_type": "stream",
          "name": "stdout",
          "text": [
            "Cloning into 'stablediffusion-infinity'...\n",
            "remote: Enumerating objects: 981, done.\u001b[K\n",
            "remote: Total 981 (delta 0), reused 0 (delta 0), pack-reused 981\u001b[K\n",
            "Receiving objects: 100% (981/981), 17.05 MiB | 10.81 MiB/s, done.\n",
            "Resolving deltas: 100% (621/621), done.\n",
            "Submodule 'PyPatchMatch' (https://github.com/lkwq007/PyPatchMatch.git) registered for path 'PyPatchMatch'\n",
            "Submodule 'blip_model' (https://github.com/lkwq007/blip_model) registered for path 'blip_model'\n",
            "Submodule 'glid_3_xl_stable' (https://github.com/lkwq007/glid_3_xl_stable.git) registered for path 'glid_3_xl_stable'\n",
            "Submodule 'sd_grpcserver' (https://github.com/lkwq007/sd_grpcserver.git) registered for path 'sd_grpcserver'\n",
            "Cloning into '/content/stablediffusion-infinity/PyPatchMatch'...\n",
            "remote: Enumerating objects: 160, done.        \n",
            "remote: Counting objects: 100% (55/55), done.        \n",
            "remote: Compressing objects: 100% (15/15), done.        \n",
            "remote: Total 160 (delta 44), reused 40 (delta 40), pack-reused 105        \n",
            "Receiving objects: 100% (160/160), 1.05 MiB | 2.31 MiB/s, done.\n",
            "Resolving deltas: 100% (96/96), done.\n",
            "Cloning into '/content/stablediffusion-infinity/blip_model'...\n",
            "remote: Enumerating objects: 309, done.        \n",
            "remote: Total 309 (delta 0), reused 0 (delta 0), pack-reused 309        \n",
            "Receiving objects: 100% (309/309), 22.59 MiB | 13.98 MiB/s, done.\n",
            "Resolving deltas: 100% (169/169), done.\n",
            "Cloning into '/content/stablediffusion-infinity/glid_3_xl_stable'...\n",
            "remote: Enumerating objects: 262, done.        \n",
            "remote: Counting objects: 100% (262/262), done.        \n",
            "remote: Compressing objects: 100% (199/199), done.        \n",
            "remote: Total 262 (delta 89), reused 226 (delta 53), pack-reused 0        \n",
            "Receiving objects: 100% (262/262), 1.57 MiB | 3.60 MiB/s, done.\n",
            "Resolving deltas: 100% (89/89), done.\n",
            "Cloning into '/content/stablediffusion-infinity/sd_grpcserver'...\n",
            "remote: Enumerating objects: 430, done.        \n",
            "remote: Counting objects: 100% (220/220), done.        \n",
            "remote: Compressing objects: 100% (51/51), done.        \n",
            "remote: Total 430 (delta 194), reused 169 (delta 169), pack-reused 210        \n",
            "Receiving objects: 100% (430/430), 593.65 KiB | 698.00 KiB/s, done.\n",
            "Resolving deltas: 100% (283/283), done.\n",
            "Submodule path 'PyPatchMatch': checked out '0396a55825a1bb1043503dfa675dbf836b2fb3aa'\n",
            "Submodule path 'blip_model': checked out '32eb46a6467953d4eb6dcdab361371d45ee087c4'\n",
            "Submodule path 'glid_3_xl_stable': checked out '876ad08de244fbc46b108a29b53f3109c4ae89e9'\n",
            "Submodule path 'sd_grpcserver': checked out 'd512d0cbc314ff860ebbaa5f1be94c230d297946'\n",
            "Submodule 'api-interfaces' (https://github.com/Stability-AI/api-interfaces.git) registered for path 'sd_grpcserver/api-interfaces'\n",
            "Cloning into '/content/stablediffusion-infinity/sd_grpcserver/api-interfaces'...\n",
            "remote: Enumerating objects: 2840, done.        \n",
            "remote: Counting objects: 100% (1003/1003), done.        \n",
            "remote: Compressing objects: 100% (259/259), done.        \n",
            "remote: Total 2840 (delta 810), reused 876 (delta 735), pack-reused 1837        \n",
            "Receiving objects: 100% (2840/2840), 4.24 MiB | 7.16 MiB/s, done.\n",
            "Resolving deltas: 100% (2000/2000), done.\n",
            "Submodule path 'sd_grpcserver/api-interfaces': checked out 'c54bcef52d6c3ba190bf98cfc660454acce4abb3'\n",
            "/content/stablediffusion-infinity\n"
          ]
        }
      ]
    },
    {
      "cell_type": "code",
      "source": [
        "#@title start stablediffusion-infinity (first setup may takes about two minutes for downloading models)\n",
        "!python app.py --share"
      ],
      "metadata": {
        "id": "UGotC5ckDlmO",
        "outputId": "4726956d-491c-4ee4-915c-839c515a1dcd",
        "colab": {
          "base_uri": "https://localhost:8080/"
        }
      },
      "execution_count": null,
      "outputs": [
        {
          "output_type": "stream",
          "name": "stdout",
          "text": [
            "2023-02-24 01:48:08.965394: I tensorflow/core/platform/cpu_feature_guard.cc:193] This TensorFlow binary is optimized with oneAPI Deep Neural Network Library (oneDNN) to use the following CPU instructions in performance-critical operations:  AVX2 FMA\n",
            "To enable them in other operations, rebuild TensorFlow with the appropriate compiler flags.\n",
            "2023-02-24 01:48:09.953351: W tensorflow/compiler/xla/stream_executor/platform/default/dso_loader.cc:64] Could not load dynamic library 'libnvinfer.so.7'; dlerror: libnvinfer.so.7: cannot open shared object file: No such file or directory; LD_LIBRARY_PATH: /usr/lib64-nvidia\n",
            "2023-02-24 01:48:09.953458: W tensorflow/compiler/xla/stream_executor/platform/default/dso_loader.cc:64] Could not load dynamic library 'libnvinfer_plugin.so.7'; dlerror: libnvinfer_plugin.so.7: cannot open shared object file: No such file or directory; LD_LIBRARY_PATH: /usr/lib64-nvidia\n",
            "2023-02-24 01:48:09.953479: W tensorflow/compiler/tf2tensorrt/utils/py_utils.cc:38] TF-TRT Warning: Cannot dlopen some TensorRT libraries. If you would like to use Nvidia GPU with TensorRT, please make sure the missing libraries mentioned above are installed properly.\n",
            "Compiling and loading c extensions from \"/content/stablediffusion-infinity/PyPatchMatch\".\n",
            "mkdir: created directory 'build'\n",
            "mkdir: created directory 'build/obj'\n",
            "mkdir: created directory 'build/obj/csrc/'\n",
            "[dep] csrc/inpaint.cpp ...\n",
            "[dep] csrc/masked_image.cpp ...\n",
            "[dep] csrc/nnf.cpp ...\n",
            "[dep] csrc/pyinterface.cpp ...\n",
            "rm -rf build/obj libpatchmatch.so\n",
            "mkdir: created directory 'build/obj'\n",
            "mkdir: created directory 'build/obj/csrc/'\n",
            "[dep] csrc/inpaint.cpp ...\n",
            "[dep] csrc/masked_image.cpp ...\n",
            "[dep] csrc/nnf.cpp ...\n",
            "[dep] csrc/pyinterface.cpp ...\n",
            "[CC] csrc/pyinterface.cpp ...\n",
            "[CC] csrc/nnf.cpp ...\n",
            "[CC] csrc/masked_image.cpp ...\n",
            "[CC] csrc/inpaint.cpp ...\n",
            "[link] libpatchmatch.so ...\n",
            "---------------------------------------------------------\n",
            "Found 1 CUDA devices\n",
            "Device 0: Tesla T4\n",
            "   SMs:        40\n",
            "   Global mem: 15110 MB\n",
            "   CUDA Cap:   7.5\n",
            "---------------------------------------------------------\n",
            "[PIE]Successfully initialize PIE grid solver with cuda backend\n",
            "Running on local URL:  http://127.0.0.1:7860\n",
            "Running on public URL: https://4955834a7e12d95e.gradio.app\n",
            "\n",
            "This share link expires in 72 hours. For free permanent hosting and GPU upgrades (NEW!), check out Spaces: https://huggingface.co/spaces\n"
          ]
        }
      ]
    },
    {
      "cell_type": "code",
      "source": [],
      "metadata": {
        "id": "R1-E07CMFZoj"
      },
      "execution_count": null,
      "outputs": []
    }
  ]
}